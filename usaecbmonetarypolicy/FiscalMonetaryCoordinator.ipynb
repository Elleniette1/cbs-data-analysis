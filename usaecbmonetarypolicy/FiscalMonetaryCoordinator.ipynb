{
 "cells": [
  {
   "cell_type": "markdown",
   "metadata": {},
   "source": [
    "## Taylor Rule Deviation:\n",
    "\n",
    "$i_t = 2 + \\pi_t + a(\\pi_t-\\pi^*)+b(y_t - y_t^*)$\n",
    "\n",
    "+ From the formula above we need:\n",
    "\n",
    "    + Interest Rate\n",
    "    + Inflation Rate\n",
    "    + Targetted Inflation Rate\n",
    "    + Potential Output\n",
    "\n",
    "### Interest Rates:\n",
    "\n",
    "Sources: https://iftp.chinamoney.com.cn/english/bmklpr/, https://www.bis.org/statistics/cbpol/cbpol.xlsx\n",
    "\n",
    "I need to quarterlyize the interest rates"
   ]
  },
  {
   "cell_type": "code",
   "execution_count": null,
   "metadata": {
    "vscode": {
     "languageId": "plaintext"
    }
   },
   "outputs": [],
   "source": []
  }
 ],
 "metadata": {
  "language_info": {
   "name": "python"
  }
 },
 "nbformat": 4,
 "nbformat_minor": 2
}
